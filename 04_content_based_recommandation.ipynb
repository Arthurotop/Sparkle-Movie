{
 "cells": [
  {
   "cell_type": "markdown",
   "id": "000d30dc",
   "metadata": {},
   "source": [
    "### Création session Spark"
   ]
  },
  {
   "cell_type": "code",
   "execution_count": 2,
   "id": "0d3eac21",
   "metadata": {},
   "outputs": [],
   "source": [
    "from pyspark.sql import SparkSession\n",
    "\n",
    "spark = SparkSession.builder \\\n",
    "    .appName(\"Movie Recommendation System\") \\\n",
    "    .config(\"spark.driver.memory\", \"4g\") \\\n",
    "    .config(\"spark.sql.shuffle.partitions\", \"8\") \\\n",
    "    .getOrCreate()"
   ]
  },
  {
   "cell_type": "markdown",
   "id": "0b598789",
   "metadata": {},
   "source": [
    "### Chargement des données"
   ]
  },
  {
   "cell_type": "code",
   "execution_count": 3,
   "id": "1cbe23fb",
   "metadata": {},
   "outputs": [],
   "source": [
    "ratings = spark.read.csv(\"ratings.csv\", header=True, inferSchema=True)\n",
    "movies = spark.read.csv(\"movies.csv\", header=True, inferSchema=True)"
   ]
  },
  {
   "cell_type": "code",
   "execution_count": 4,
   "id": "978b9e35",
   "metadata": {},
   "outputs": [
    {
     "name": "stdout",
     "output_type": "stream",
     "text": [
      "root\n",
      " |-- userId: integer (nullable = true)\n",
      " |-- movieId: integer (nullable = true)\n",
      " |-- rating: float (nullable = true)\n",
      " |-- timestamp: long (nullable = true)\n",
      "\n"
     ]
    }
   ],
   "source": [
    "from pyspark.sql.functions import col\n",
    "\n",
    "df = ratings.select(\n",
    "    col(\"userId\").cast(\"int\"),\n",
    "    col(\"movieId\").cast(\"int\"),\n",
    "    col(\"rating\").cast(\"float\"),\n",
    "    col(\"timestamp\").cast(\"long\")\n",
    ")\n",
    "\n",
    "df.printSchema()"
   ]
  },
  {
   "cell_type": "markdown",
   "id": "c9d245e8",
   "metadata": {},
   "source": [
    "### Segmentation des données"
   ]
  },
  {
   "cell_type": "code",
   "execution_count": 5,
   "id": "4357b69a",
   "metadata": {},
   "outputs": [],
   "source": [
    "from pyspark.sql import Window\n",
    "from pyspark.sql.functions import row_number, count, when\n",
    "\n",
    "# Paramètres de split\n",
    "TRAIN_FRAC = 0.6\n",
    "VAL_FRAC = 0.2\n",
    "MIN_USER_RATINGS = 5\n",
    "MIN_ITEM_RATINGS = 5\n",
    "\n",
    "# 1. Filtrer utilisateurs/films trop peu actifs\n",
    "user_counts = df.groupBy(\"userId\").agg(count(\"*\").alias(\"n_user\"))\n",
    "item_counts = df.groupBy(\"movieId\").agg(count(\"*\").alias(\"n_item\"))\n",
    "\n",
    "df_f = (\n",
    "    df.join(user_counts, \"userId\")\n",
    "      .join(item_counts, \"movieId\")\n",
    "      .filter((col(\"n_user\") >= MIN_USER_RATINGS) & (col(\"n_item\") >= MIN_ITEM_RATINGS))\n",
    "      .drop(\"n_user\", \"n_item\")\n",
    ")\n",
    "\n",
    "# 2. Split chronologique par utilisateur\n",
    "w_order = Window.partitionBy(\"userId\").orderBy(\"timestamp\")\n",
    "w_all = Window.partitionBy(\"userId\")\n",
    "\n",
    "df_s = (\n",
    "    df_f.withColumn(\"row_num\", row_number().over(w_order))\n",
    "        .withColumn(\"total_user_ratings\", count(\"*\").over(w_all))\n",
    "        .withColumn(\"user_frac\", (col(\"row_num\") - 1) / col(\"total_user_ratings\"))\n",
    "        .withColumn(\n",
    "            \"set\",\n",
    "            when(col(\"user_frac\") < TRAIN_FRAC, \"train\")\n",
    "            .when(col(\"user_frac\") < TRAIN_FRAC + VAL_FRAC, \"validation\")\n",
    "            .otherwise(\"test\")\n",
    "        )\n",
    "        .drop(\"row_num\", \"total_user_ratings\", \"user_frac\")\n",
    ")\n",
    "\n",
    "train = df_s.filter(col(\"set\") == \"train\").drop(\"set\")\n",
    "val = df_s.filter(col(\"set\") == \"validation\").drop(\"set\")\n",
    "test = df_s.filter(col(\"set\") == \"test\").drop(\"set\")\n"
   ]
  },
  {
   "cell_type": "code",
   "execution_count": 6,
   "id": "893a8320",
   "metadata": {},
   "outputs": [],
   "source": [
    "train_users = train.select(\"userId\").distinct()\n",
    "train_items = train.select(\"movieId\").distinct()\n",
    "\n",
    "val_warm = val.join(train_users, \"userId\").join(train_items, \"movieId\")\n",
    "test_warm = test.join(train_users, \"userId\").join(train_items, \"movieId\")\n"
   ]
  },
  {
   "cell_type": "code",
   "execution_count": 7,
   "id": "356e3d1c",
   "metadata": {},
   "outputs": [
    {
     "name": "stdout",
     "output_type": "stream",
     "text": [
      "train: 54396\n",
      "val_warm: 17886\n",
      "test_warm: 17610\n",
      "users train: 610\n",
      "users val_warm: 610\n"
     ]
    }
   ],
   "source": [
    "print(\"train:\", train.count())\n",
    "print(\"val_warm:\", val_warm.count())\n",
    "print(\"test_warm:\", test_warm.count())\n",
    "\n",
    "print(\"users train:\", train.select(\"userId\").distinct().count())\n",
    "print(\"users val_warm:\", val_warm.select(\"userId\").distinct().count())\n"
   ]
  },
  {
   "cell_type": "markdown",
   "id": "364bba87",
   "metadata": {},
   "source": [
    "### ALS"
   ]
  },
  {
   "cell_type": "code",
   "execution_count": 8,
   "id": "0f9b4866",
   "metadata": {},
   "outputs": [],
   "source": [
    "from pyspark.sql.functions import col, sqrt\n",
    "def RMSE(predictions):\n",
    "    squared_diff = predictions.withColumn(\"squared_diff\", pow(col(\"rating\") - col(\"prediction\"), 2))\n",
    "    mse = squared_diff.selectExpr(\"mean(squared_diff) as mse\").first().mse\n",
    "    return mse ** 0.5"
   ]
  },
  {
   "cell_type": "code",
   "execution_count": 9,
   "id": "ec0eb605",
   "metadata": {},
   "outputs": [],
   "source": [
    "# implement the model using ALS algorithm and find the right hyperparameters using Grid Search\n",
    "from pyspark.ml.recommendation import ALS\n",
    "\n",
    "def GridSearch(train, valid, num_iterations, reg_param, n_factors):\n",
    "    min_rmse = float('inf')\n",
    "    best_n = -1\n",
    "    best_reg = 0\n",
    "    best_model = None\n",
    "    # run Grid Search for all the parameter defined in the range in a loop\n",
    "    for n in n_factors:\n",
    "        for reg in reg_param:\n",
    "            als = ALS(rank = n, \n",
    "                      maxIter = num_iterations, \n",
    "                      seed = 0, \n",
    "                      regParam = reg,\n",
    "                      userCol=\"userId\", \n",
    "                      itemCol=\"movieId\", \n",
    "                      ratingCol=\"rating\", \n",
    "                      coldStartStrategy=\"drop\")            \n",
    "            model = als.fit(train)\n",
    "            predictions = model.transform(valid)\n",
    "            rmse = RMSE(predictions)     \n",
    "            print('{} latent factors and regularization = {}: validation RMSE is {}'.format(n, reg, rmse))\n",
    "            # track the best model using RMSE\n",
    "            if rmse < min_rmse:\n",
    "                min_rmse = rmse\n",
    "                best_n = n\n",
    "                best_reg = reg\n",
    "                best_model = model\n",
    "                \n",
    "    pred = best_model.transform(train)\n",
    "    train_rmse = RMSE(pred)\n",
    "    # best model and its metrics\n",
    "    print('\\nThe best model has {} latent factors and regularization = {}:'.format(best_n, best_reg))\n",
    "    print('traning RMSE is {}; validation RMSE is {}'.format(train_rmse, min_rmse))\n",
    "    return best_model"
   ]
  },
  {
   "cell_type": "code",
   "execution_count": 10,
   "id": "ff5c9bc8",
   "metadata": {},
   "outputs": [
    {
     "name": "stdout",
     "output_type": "stream",
     "text": [
      "6 latent factors and regularization = 0.05: validation RMSE is 0.979181885389088\n",
      "6 latent factors and regularization = 0.1: validation RMSE is 0.9141494086138443\n",
      "6 latent factors and regularization = 0.2: validation RMSE is 0.8939479412576755\n",
      "6 latent factors and regularization = 0.4: validation RMSE is 0.9590167245174998\n",
      "6 latent factors and regularization = 0.8: validation RMSE is 1.1649836848476671\n",
      "8 latent factors and regularization = 0.05: validation RMSE is 0.9849498335878942\n",
      "8 latent factors and regularization = 0.1: validation RMSE is 0.9152931497467889\n",
      "8 latent factors and regularization = 0.2: validation RMSE is 0.8963655838546957\n",
      "8 latent factors and regularization = 0.4: validation RMSE is 0.9603771792615616\n",
      "8 latent factors and regularization = 0.8: validation RMSE is 1.1649705201416187\n",
      "10 latent factors and regularization = 0.05: validation RMSE is 0.9901138657556984\n",
      "10 latent factors and regularization = 0.1: validation RMSE is 0.9177608927398154\n",
      "10 latent factors and regularization = 0.2: validation RMSE is 0.8970952512380275\n",
      "10 latent factors and regularization = 0.4: validation RMSE is 0.9599923916837193\n",
      "10 latent factors and regularization = 0.8: validation RMSE is 1.1649688126130435\n",
      "12 latent factors and regularization = 0.05: validation RMSE is 0.9988300562382\n",
      "12 latent factors and regularization = 0.1: validation RMSE is 0.9155576523619302\n",
      "12 latent factors and regularization = 0.2: validation RMSE is 0.8967301092909064\n",
      "12 latent factors and regularization = 0.4: validation RMSE is 0.9604914686644963\n",
      "12 latent factors and regularization = 0.8: validation RMSE is 1.1649707816125667\n",
      "\n",
      "The best model has 6 latent factors and regularization = 0.2:\n",
      "traning RMSE is 0.7275390268025013; validation RMSE is 0.8939479412576755\n",
      "Total Runtime: 98.90 seconds\n"
     ]
    }
   ],
   "source": [
    "# build the model using different ranges for Grid Search\n",
    "import time\n",
    "from pyspark.sql.functions import col, sqrt\n",
    "num_iterations = 10\n",
    "ranks = [6, 8, 10, 12]\n",
    "reg_params = [0.05, 0.1, 0.2, 0.4, 0.8]\n",
    "\n",
    "start_time = time.time()\n",
    "final_model = GridSearch(train, val_warm, num_iterations, reg_params, ranks)\n",
    "print('Total Runtime: {:.2f} seconds'.format(time.time() - start_time))"
   ]
  },
  {
   "cell_type": "code",
   "execution_count": 11,
   "id": "a920b065",
   "metadata": {},
   "outputs": [
    {
     "name": "stdout",
     "output_type": "stream",
     "text": [
      "The testing RMSE is 0.9271179989284923\n"
     ]
    }
   ],
   "source": [
    "# test the accuracy of the model on test set using RMSE \n",
    "pred_test = final_model.transform(test)\n",
    "print('The testing RMSE is ' + str(RMSE(pred_test)))"
   ]
  },
  {
   "cell_type": "code",
   "execution_count": 11,
   "id": "d6b2ccaf",
   "metadata": {},
   "outputs": [],
   "source": [
    "TOP_K = 5\n",
    "user_recs = final_model.recommendForAllUsers(TOP_K)"
   ]
  },
  {
   "cell_type": "code",
   "execution_count": 12,
   "id": "07ed5233",
   "metadata": {},
   "outputs": [
    {
     "name": "stdout",
     "output_type": "stream",
     "text": [
      "+-------+------+---------+----------------------------------------------------------------------------------------------------+-----------------------------------+\n",
      "|movieId|userId|score    |title                                                                                               |genres                             |\n",
      "+-------+------+---------+----------------------------------------------------------------------------------------------------+-----------------------------------+\n",
      "|3266   |1     |6.0985866|Man Bites Dog (C'est arrivé près de chez vous) (1992)                                               |Comedy|Crime|Drama|Thriller        |\n",
      "|1232   |1     |5.643898 |Stalker (1979)                                                                                      |Drama|Mystery|Sci-Fi               |\n",
      "|6380   |1     |5.593773 |Capturing the Friedmans (2003)                                                                      |Documentary                        |\n",
      "|951    |1     |5.5671835|His Girl Friday (1940)                                                                              |Comedy|Romance                     |\n",
      "|5292   |1     |5.476946 |Slap Shot (1977)                                                                                    |Comedy                             |\n",
      "|3266   |2     |4.5215445|Man Bites Dog (C'est arrivé près de chez vous) (1992)                                               |Comedy|Crime|Drama|Thriller        |\n",
      "|86781  |2     |4.2933183|Incendies (2010)                                                                                    |Drama|Mystery|War                  |\n",
      "|26258  |2     |4.1880383|Topo, El (1970)                                                                                     |Fantasy|Western                    |\n",
      "|951    |2     |4.151603 |His Girl Friday (1940)                                                                              |Comedy|Romance                     |\n",
      "|67997  |2     |4.122507 |In the Loop (2009)                                                                                  |Comedy                             |\n",
      "|1468   |3     |4.835559 |Booty Call (1997)                                                                                   |Comedy|Romance                     |\n",
      "|71520  |3     |4.4540763|Invention of Lying, The (2009)                                                                      |Comedy                             |\n",
      "|65130  |3     |4.3015785|Revolutionary Road (2008)                                                                           |Drama|Romance                      |\n",
      "|4006   |3     |4.0202746|Transformers: The Movie (1986)                                                                      |Adventure|Animation|Children|Sci-Fi|\n",
      "|6713   |3     |4.0070906|Millennium Actress (Sennen joyû) (2001)                                                             |Animation|Drama|Romance            |\n",
      "|89904  |4     |5.0245523|The Artist (2011)                                                                                   |Comedy|Drama|Romance               |\n",
      "|7700   |4     |4.9923797|Wages of Fear, The (Salaire de la peur, Le) (1953)                                                  |Action|Adventure|Drama|Thriller    |\n",
      "|1232   |4     |4.764842 |Stalker (1979)                                                                                      |Drama|Mystery|Sci-Fi               |\n",
      "|2202   |4     |4.713088 |Lifeboat (1944)                                                                                     |Drama|War                          |\n",
      "|3089   |4     |4.6881576|Bicycle Thieves (a.k.a. The Bicycle Thief) (a.k.a. The Bicycle Thieves) (Ladri di biciclette) (1948)|Drama                              |\n",
      "+-------+------+---------+----------------------------------------------------------------------------------------------------+-----------------------------------+\n",
      "only showing top 20 rows\n",
      "\n"
     ]
    }
   ],
   "source": [
    "from pyspark.sql.functions import explode, col\n",
    "\n",
    "# Exploser les 5 recommandations en lignes\n",
    "recs_exp = user_recs.withColumn(\"rec\", explode(\"recommendations\")) \\\n",
    "    .select(\"userId\", col(\"rec.movieId\").alias(\"movieId\"), col(\"rec.rating\").alias(\"score\"))\n",
    "\n",
    "# Joindre avec le DataFrame des films\n",
    "recs_with_titles = recs_exp.join(movies, on=\"movieId\", how=\"left\")\n",
    "\n",
    "# Afficher\n",
    "recs_with_titles.orderBy(\"userId\", col(\"score\").desc()).show(20, truncate=False)"
   ]
  },
  {
   "cell_type": "code",
   "execution_count": 13,
   "id": "1dca4811",
   "metadata": {},
   "outputs": [
    {
     "name": "stdout",
     "output_type": "stream",
     "text": [
      "+-------+------+---------+----------------------------------------------------------------+--------------------------+\n",
      "|movieId|userId|score    |title                                                           |genres                    |\n",
      "+-------+------+---------+----------------------------------------------------------------+--------------------------+\n",
      "|8827   |10    |4.708549 |Bill Cosby, Himself (1983)                                      |Comedy|Documentary        |\n",
      "|135861 |10    |4.569747 |Ted 2 (2015)                                                    |Comedy                    |\n",
      "|45668  |10    |4.4909706|Lake House, The (2006)                                          |Drama|Fantasy|Romance     |\n",
      "|71579  |10    |4.46557  |Education, An (2009)                                            |Drama|Romance             |\n",
      "|82169  |10    |4.3395076|Chronicles of Narnia: The Voyage of the Dawn Treader, The (2010)|Adventure|Children|Fantasy|\n",
      "+-------+------+---------+----------------------------------------------------------------+--------------------------+\n",
      "\n"
     ]
    }
   ],
   "source": [
    "recs_with_titles.filter(col(\"userId\") == 10) \\\n",
    "    .orderBy(col(\"score\").desc()) \\\n",
    "    .show(truncate=False)"
   ]
  },
  {
   "cell_type": "code",
   "execution_count": 14,
   "id": "c3a54a6c",
   "metadata": {},
   "outputs": [
    {
     "name": "stdout",
     "output_type": "stream",
     "text": [
      "+-------+-------------------------------+---------------------------------------------------+------+\n",
      "|movieId|title                          |genres                                             |rating|\n",
      "+-------+-------------------------------+---------------------------------------------------+------+\n",
      "|7458   |Troy (2004)                    |Action|Adventure|Drama|War                         |5.0   |\n",
      "|8533   |Notebook, The (2004)           |Drama|Romance                                      |5.0   |\n",
      "|8869   |First Daughter (2004)          |Comedy|Romance                                     |5.0   |\n",
      "|33794  |Batman Begins (2005)           |Action|Crime|IMAX                                  |5.0   |\n",
      "|49272  |Casino Royale (2006)           |Action|Adventure|Thriller                          |5.0   |\n",
      "|49286  |Holiday, The (2006)            |Comedy|Romance                                     |5.0   |\n",
      "|71579  |Education, An (2009)           |Drama|Romance                                      |5.0   |\n",
      "|79091  |Despicable Me (2010)           |Animation|Children|Comedy|Crime                    |5.0   |\n",
      "|81845  |King's Speech, The (2010)      |Drama                                              |5.0   |\n",
      "|91529  |Dark Knight Rises, The (2012)  |Action|Adventure|Crime|IMAX                        |5.0   |\n",
      "|92259  |Intouchables (2011)            |Comedy|Drama                                       |5.0   |\n",
      "|96079  |Skyfall (2012)                 |Action|Adventure|Thriller|IMAX                     |5.0   |\n",
      "|136020 |Spectre (2015)                 |Action|Adventure|Crime                             |5.0   |\n",
      "|140110 |The Intern (2015)              |Comedy                                             |5.0   |\n",
      "|4447   |Legally Blonde (2001)          |Comedy|Romance                                     |4.5   |\n",
      "|7169   |Chasing Liberty (2004)         |Comedy|Romance                                     |4.5   |\n",
      "|4306   |Shrek (2001)                   |Adventure|Animation|Children|Comedy|Fantasy|Romance|4.5   |\n",
      "|31685  |Hitch (2005)                   |Comedy|Romance                                     |4.5   |\n",
      "|51705  |Priceless (Hors de prix) (2006)|Comedy|Romance                                     |4.5   |\n",
      "|58559  |Dark Knight, The (2008)        |Action|Crime|Drama|IMAX                            |4.5   |\n",
      "+-------+-------------------------------+---------------------------------------------------+------+\n",
      "only showing top 20 rows\n",
      "\n"
     ]
    }
   ],
   "source": [
    "# Films que l'utilisateur 10 a notés avec genres\n",
    "df.filter(col(\"userId\") == 10).join(movies, on=\"movieId\", how=\"left\") \\\n",
    "    .select(\"movieId\", \"title\", \"genres\", \"rating\") \\\n",
    "    .orderBy(col(\"rating\").desc()) \\\n",
    "    .show(truncate=False)"
   ]
  },
  {
   "cell_type": "code",
   "execution_count": 15,
   "id": "ff5964bd",
   "metadata": {},
   "outputs": [],
   "source": [
    "liked_movies_10 = df.filter((col(\"userId\") == 10) & (col(\"rating\") >= 4.0)) \\\n",
    "    .select(\"movieId\").distinct()"
   ]
  },
  {
   "cell_type": "code",
   "execution_count": 16,
   "id": "6709077a",
   "metadata": {},
   "outputs": [],
   "source": [
    "top5_recs_10 = recs_with_titles.filter(col(\"userId\") == 10) \\\n",
    "    .select(\"movieId\")"
   ]
  },
  {
   "cell_type": "code",
   "execution_count": 17,
   "id": "e99dba8a",
   "metadata": {},
   "outputs": [],
   "source": [
    "true_positives_10 = top5_recs_10.join(liked_movies_10, on=\"movieId\", how=\"inner\").count()"
   ]
  },
  {
   "cell_type": "code",
   "execution_count": 18,
   "id": "dc2890f7",
   "metadata": {},
   "outputs": [],
   "source": [
    "total_liked_10 = liked_movies_10.count()"
   ]
  },
  {
   "cell_type": "code",
   "execution_count": 19,
   "id": "eae2f413",
   "metadata": {},
   "outputs": [
    {
     "name": "stdout",
     "output_type": "stream",
     "text": [
      "Recall@5 de l’utilisateur 10 : 0.0200\n"
     ]
    }
   ],
   "source": [
    "recall_at_5_10 = true_positives_10 / total_liked_10\n",
    "print(f\"Recall@5 de l’utilisateur 10 : {recall_at_5_10:.4f}\")"
   ]
  },
  {
   "cell_type": "markdown",
   "id": "e4680cfc",
   "metadata": {},
   "source": [
    "### Recommandation basé sur le contenu"
   ]
  },
  {
   "cell_type": "code",
   "execution_count": 20,
   "id": "c8174701",
   "metadata": {},
   "outputs": [
    {
     "name": "stdout",
     "output_type": "stream",
     "text": [
      "Nombre de genres uniques: 20\n",
      "Genres: ['Crime', 'Horror', 'Adventure', 'Sci-Fi', 'Musical', 'Western', 'Comedy', 'Romance', 'Mystery', 'War', 'Documentary', 'Children', 'Fantasy', 'Drama', 'IMAX', 'Animation', 'Thriller', '(no genres listed)', 'Action', 'Film-Noir']\n"
     ]
    }
   ],
   "source": [
    "from pyspark.sql.functions import split, explode, collect_list\n",
    "\n",
    "# On crée une colonne 'genre' par genre unique (explosion)\n",
    "movies_genres = movies.withColumn(\"genre\", explode(split(\"genres\", \"\\\\|\")))\n",
    "\n",
    "# Liste de tous les genres uniques\n",
    "all_genres_df = movies_genres.select(\"genre\").distinct()\n",
    "all_genres = [row.genre for row in all_genres_df.collect()]\n",
    "\n",
    "print(f\"Nombre de genres uniques: {len(all_genres)}\")\n",
    "print(f\"Genres: {all_genres}\")"
   ]
  },
  {
   "cell_type": "code",
   "execution_count": 21,
   "id": "2b4e4124",
   "metadata": {},
   "outputs": [
    {
     "name": "stdout",
     "output_type": "stream",
     "text": [
      "+------+-------+------+----+---------------------------+-------------------------------------------+\n",
      "|userId|movieId|rating|year|title                      |genres                                     |\n",
      "+------+-------+------+----+---------------------------+-------------------------------------------+\n",
      "|1     |1      |4.0   |2000|Toy Story (1995)           |Adventure|Animation|Children|Comedy|Fantasy|\n",
      "|1     |3      |4.0   |2000|Grumpier Old Men (1995)    |Comedy|Romance                             |\n",
      "|1     |6      |4.0   |2000|Heat (1995)                |Action|Crime|Thriller                      |\n",
      "|1     |47     |5.0   |2000|Seven (a.k.a. Se7en) (1995)|Mystery|Thriller                           |\n",
      "|1     |50     |5.0   |2000|Usual Suspects, The (1995) |Crime|Mystery|Thriller                     |\n",
      "|1     |70     |3.0   |2000|From Dusk Till Dawn (1996) |Action|Comedy|Horror|Thriller              |\n",
      "|1     |101    |5.0   |2000|Bottle Rocket (1996)       |Adventure|Comedy|Crime|Romance             |\n",
      "|1     |110    |4.0   |2000|Braveheart (1995)          |Action|Drama|War                           |\n",
      "|1     |151    |5.0   |2000|Rob Roy (1995)             |Action|Drama|Romance|War                   |\n",
      "|1     |157    |5.0   |2000|Canadian Bacon (1995)      |Comedy|War                                 |\n",
      "+------+-------+------+----+---------------------------+-------------------------------------------+\n",
      "only showing top 10 rows\n",
      "\n"
     ]
    }
   ],
   "source": [
    "from pyspark.sql.functions import year, to_timestamp\n",
    "\n",
    "# Join ratings and movies dataframes\n",
    "ratings_movies = ratings.join(movies, on=\"movieId\", how=\"inner\")\n",
    "\t\n",
    "# Extract year from timestamp and add it as a column\n",
    "ratings_movies = ratings_movies.withColumn(\"year\", year(to_timestamp(col(\"timestamp\"))))\n",
    "\n",
    "# Create the dataframe with the desired columns\n",
    "# Note: There's no \"genre\" column in the original data, but \"genres\" exists\n",
    "df_combined = ratings_movies.select(\"userId\", \"movieId\", \"rating\", \"year\", \"title\", \"genres\")\n",
    "\n",
    "df_combined.show(10, truncate=False)"
   ]
  },
  {
   "cell_type": "markdown",
   "id": "2ef534b7",
   "metadata": {},
   "source": [
    "#### One hot encoding "
   ]
  },
  {
   "cell_type": "code",
   "execution_count": 22,
   "id": "d94927bb",
   "metadata": {},
   "outputs": [
    {
     "name": "stdout",
     "output_type": "stream",
     "text": [
      "+--------------------+-----+------+---------+------+-------+-------+------+-------+-------+---+-----------+--------+-------+-----+----+---------+--------+------------------+------+---------+\n",
      "|               title|Crime|Horror|Adventure|Sci-Fi|Musical|Western|Comedy|Romance|Mystery|War|Documentary|Children|Fantasy|Drama|IMAX|Animation|Thriller|(no genres listed)|Action|Film-Noir|\n",
      "+--------------------+-----+------+---------+------+-------+-------+------+-------+-------+---+-----------+--------+-------+-----+----+---------+--------+------------------+------+---------+\n",
      "|    Toy Story (1995)|    0|     0|        1|     0|      0|      0|     1|      0|      0|  0|          0|       1|      1|    0|   0|        1|       0|                 0|     0|        0|\n",
      "|      Jumanji (1995)|    0|     0|        1|     0|      0|      0|     0|      0|      0|  0|          0|       1|      1|    0|   0|        0|       0|                 0|     0|        0|\n",
      "|Grumpier Old Men ...|    0|     0|        0|     0|      0|      0|     1|      1|      0|  0|          0|       0|      0|    0|   0|        0|       0|                 0|     0|        0|\n",
      "|Waiting to Exhale...|    0|     0|        0|     0|      0|      0|     1|      1|      0|  0|          0|       0|      0|    1|   0|        0|       0|                 0|     0|        0|\n",
      "|Father of the Bri...|    0|     0|        0|     0|      0|      0|     1|      0|      0|  0|          0|       0|      0|    0|   0|        0|       0|                 0|     0|        0|\n",
      "+--------------------+-----+------+---------+------+-------+-------+------+-------+-------+---+-----------+--------+-------+-----+----+---------+--------+------------------+------+---------+\n",
      "only showing top 5 rows\n",
      "\n"
     ]
    }
   ],
   "source": [
    "from pyspark.sql.functions import col, when\n",
    "\n",
    "# On part du DataFrame \"movies\" avec la colonne \"genres\"\n",
    "movies_profiles = movies\n",
    "\n",
    "for genre in all_genres:\n",
    "    # Ajoute une colonne par genre : 1 si présent, 0 sinon\n",
    "    movies_profiles = movies_profiles.withColumn(\n",
    "        genre,\n",
    "        when(col(\"genres\").contains(genre), 1).otherwise(0)\n",
    "    )\n",
    "\n",
    "# exemple de profil de film\n",
    "movies_profiles.select(\"title\", *all_genres).show(5)\n"
   ]
  },
  {
   "cell_type": "code",
   "execution_count": 23,
   "id": "a0caa87c",
   "metadata": {},
   "outputs": [],
   "source": [
    "user_id = 12  # choix utilisateur test\n",
    "liked_movies = ratings.filter((col(\"userId\") == user_id) & (col(\"rating\") >= 4))\n"
   ]
  },
  {
   "cell_type": "code",
   "execution_count": 24,
   "id": "905869a2",
   "metadata": {},
   "outputs": [],
   "source": [
    "liked_movies_profiles = liked_movies.join(\n",
    "    movies_profiles, \"movieId\", \"inner\"\n",
    ")\n"
   ]
  },
  {
   "cell_type": "markdown",
   "id": "8a90f36c",
   "metadata": {},
   "source": [
    "#### Profil utilisateur "
   ]
  },
  {
   "cell_type": "code",
   "execution_count": 25,
   "id": "e838a9c8",
   "metadata": {},
   "outputs": [],
   "source": [
    "from pyspark.sql import functions as F\n",
    "\n",
    "# On calcule la moyenne de chaque genre pour les films likés\n",
    "user_profile = liked_movies_profiles.agg(\n",
    "    *[F.mean(genre).alias(genre) for genre in all_genres]\n",
    ").collect()[0]\n",
    "\n",
    "# user_profile est une Row avec les moyennes par genre \n",
    "user_profile_vector = [user_profile[genre] for genre in all_genres]\n"
   ]
  },
  {
   "cell_type": "code",
   "execution_count": 26,
   "id": "f941201c",
   "metadata": {},
   "outputs": [
    {
     "name": "stdout",
     "output_type": "stream",
     "text": [
      "Profil de l'utilisateur 12 basé sur les genres :\n",
      "\n",
      "Crime           : 0.00\n",
      "Horror          : 0.00\n",
      "Adventure       : 0.00\n",
      "Sci-Fi          : 0.08\n",
      "Musical         : 0.00\n",
      "Western         : 0.00\n",
      "Comedy          : 0.54\n",
      "Romance         : 0.71\n",
      "Mystery         : 0.00\n",
      "War             : 0.04\n",
      "Documentary     : 0.00\n",
      "Children        : 0.00\n",
      "Fantasy         : 0.08\n",
      "Drama           : 0.54\n",
      "IMAX            : 0.00\n",
      "Animation       : 0.00\n",
      "Thriller        : 0.04\n",
      "(no genres listed) : 0.00\n",
      "Action          : 0.04\n",
      "Film-Noir       : 0.00\n"
     ]
    }
   ],
   "source": [
    "print(f\"Profil de l'utilisateur {user_id} basé sur les genres :\\n\")\n",
    "for genre in all_genres:\n",
    "    print(f\"{genre:15s} : {user_profile[genre]:.2f}\")\n"
   ]
  },
  {
   "cell_type": "code",
   "execution_count": 27,
   "id": "a99d789d",
   "metadata": {},
   "outputs": [
    {
     "data": {
      "image/png": "[encoded data removed]",
      "text/plain": [
       "<Figure size 1200x800 with 1 Axes>"
      ]
     },
     "metadata": {},
     "output_type": "display_data"
    },
    {
     "name": "stdout",
     "output_type": "stream",
     "text": [
      "Movies rated by User 12:\n",
      "+---------------------------------+------------------------------+------+\n",
      "|title                            |genres                        |rating|\n",
      "+---------------------------------+------------------------------+------+\n",
      "|First Knight (1995)              |Action|Drama|Romance          |5.0   |\n",
      "|Circle of Friends (1995)         |Drama|Romance                 |5.0   |\n",
      "|Junior (1994)                    |Comedy|Sci-Fi                 |5.0   |\n",
      "|Emma (1996)                      |Comedy|Drama|Romance          |5.0   |\n",
      "|Shine (1996)                     |Drama|Romance                 |5.0   |\n",
      "|Titanic (1997)                   |Drama|Romance                 |5.0   |\n",
      "|'burbs, The (1989)               |Comedy                        |5.0   |\n",
      "|She's All That (1999)            |Comedy|Romance                |5.0   |\n",
      "|10 Things I Hate About You (1999)|Comedy|Romance                |5.0   |\n",
      "|Never Been Kissed (1999)         |Comedy|Romance                |5.0   |\n",
      "|Ghostbusters II (1989)           |Comedy|Fantasy|Sci-Fi         |5.0   |\n",
      "|Romeo and Juliet (1968)          |Drama|Romance                 |5.0   |\n",
      "|Love Actually (2003)             |Comedy|Drama|Romance          |5.0   |\n",
      "|Notebook, The (2004)             |Drama|Romance                 |5.0   |\n",
      "|Pride & Prejudice (2005)         |Drama|Romance                 |5.0   |\n",
      "|Twilight (2008)                  |Drama|Fantasy|Romance|Thriller|5.0   |\n",
      "|Little Women (1994)              |Drama                         |4.5   |\n",
      "|Gone with the Wind (1939)        |Drama|Romance|War             |4.5   |\n",
      "|Billy Elliot (2000)              |Drama                         |4.5   |\n",
      "|What Women Want (2000)           |Comedy|Romance                |4.5   |\n",
      "+---------------------------------+------------------------------+------+\n",
      "only showing top 20 rows\n",
      "\n"
     ]
    }
   ],
   "source": [
    "import pandas as pd\n",
    "import numpy as np\n",
    "\n",
    "# Creating a new visualization of the user profile based on genres\n",
    "import matplotlib.pyplot as plt\n",
    "\n",
    "# Convert user profile to a pandas Series for easier visualization\n",
    "user_profile_series = pd.Series({genre: user_profile[genre] for genre in all_genres})\n",
    "\n",
    "# Sort genres by preference weight\n",
    "sorted_profile = user_profile_series.sort_values(ascending=False)\n",
    "\n",
    "# Create a horizontal bar chart\n",
    "plt.figure(figsize=(12, 8))\n",
    "bars = plt.barh(sorted_profile.index, sorted_profile.values, color='skyblue')\n",
    "\n",
    "# Add values on the bars\n",
    "for bar in bars:\n",
    "    width = bar.get_width()\n",
    "    plt.text(width + 0.01, bar.get_y() + bar.get_height()/2, \n",
    "             f'{width:.2f}', va='center')\n",
    "\n",
    "plt.title(f'Genre Preferences for User {user_id}', fontsize=16)\n",
    "plt.xlabel('Preference Weight', fontsize=12)\n",
    "plt.ylabel('Genre', fontsize=12)\n",
    "plt.grid(axis='x', linestyle='--', alpha=0.7)\n",
    "plt.tight_layout()\n",
    "plt.show()\n",
    "\n",
    "# Print movies user has rated along with genres\n",
    "print(f\"Movies rated by User {user_id}:\")\n",
    "liked_movies.join(movies, on=\"movieId\") \\\n",
    "    .select(\"title\", \"genres\", \"rating\") \\\n",
    "    .orderBy(\"rating\", ascending=False) \\\n",
    "    .show(truncate=False)"
   ]
  },
  {
   "cell_type": "code",
   "execution_count": 28,
   "id": "e359e861",
   "metadata": {},
   "outputs": [],
   "source": [
    "import numpy as np\n",
    "\n",
    "user_profile_vector = np.array([user_profile[genre] for genre in all_genres])"
   ]
  },
  {
   "cell_type": "code",
   "execution_count": 29,
   "id": "006ac4be",
   "metadata": {},
   "outputs": [
    {
     "name": "stdout",
     "output_type": "stream",
     "text": [
      "[0.         0.         0.         0.08333333 0.         0.\n",
      " 0.54166667 0.70833333 0.         0.04166667 0.         0.\n",
      " 0.08333333 0.54166667 0.         0.         0.04166667 0.\n",
      " 0.04166667 0.        ]\n"
     ]
    }
   ],
   "source": [
    "print(user_profile_vector)"
   ]
  },
  {
   "cell_type": "code",
   "execution_count": 30,
   "id": "35f4dce1",
   "metadata": {},
   "outputs": [],
   "source": [
    "# Films déjà vus (movieId)\n",
    "seen_movies = liked_movies.select('movieId').distinct()\n",
    "\n",
    "# Films non vus par l'utilisateur\n",
    "unseen_movies_profiles = movies_profiles.join(seen_movies, on='movieId', how='left_anti')"
   ]
  },
  {
   "cell_type": "markdown",
   "id": "28e8202e",
   "metadata": {},
   "source": [
    "#### Similarité cosinus"
   ]
  },
  {
   "cell_type": "code",
   "execution_count": 31,
   "id": "6778a7d2",
   "metadata": {},
   "outputs": [
    {
     "name": "stdout",
     "output_type": "stream",
     "text": [
      "+-------+--------------------+------------------+\n",
      "|movieId|               title|        similarity|\n",
      "+-------+--------------------+------------------+\n",
      "|     94|Beautiful Girls (...|0.9828731898973629|\n",
      "|    372|Reality Bites (1994)|0.9828731898973629|\n",
      "|    195|Something to Talk...|0.9828731898973629|\n",
      "|      4|Waiting to Exhale...|0.9828731898973629|\n",
      "|    224|Don Juan DeMarco ...|0.9828731898973629|\n",
      "|     58|Postman, The (Pos...|0.9828731898973629|\n",
      "|    232|Eat Drink Man Wom...|0.9828731898973629|\n",
      "|    351|Corrina, Corrina ...|0.9828731898973629|\n",
      "|    361|It Could Happen t...|0.9828731898973629|\n",
      "|     52|Mighty Aphrodite ...|0.9828731898973629|\n",
      "+-------+--------------------+------------------+\n",
      "\n"
     ]
    }
   ],
   "source": [
    "from pyspark.sql import functions as F\n",
    "import numpy as np\n",
    "\n",
    "def recommend_by_genre_similarity(movies_profiles, user_id, ratings, all_genres, n=10):\n",
    "    \"\"\"\n",
    "    Recommends movies to a user based on genre similarity.\n",
    "    \n",
    "    Parameters:\n",
    "    -----------\n",
    "    movies_profiles : DataFrame\n",
    "        DataFrame containing movie profiles with genre information\n",
    "    user_id : int\n",
    "        ID of the user to generate recommendations for\n",
    "    ratings : DataFrame\n",
    "        DataFrame containing user ratings\n",
    "    all_genres : list\n",
    "        List of all available genres\n",
    "    n : int, optional\n",
    "        Number of recommendations to return (default 10)\n",
    "        \n",
    "    Returns:\n",
    "    --------\n",
    "    DataFrame\n",
    "        Top n movie recommendations sorted by similarity\n",
    "    \"\"\"\n",
    "    # Get movies liked by the user (rated 4 or higher)\n",
    "    liked_movies = ratings.filter((F.col(\"userId\") == user_id) & (F.col(\"rating\") >= 4))\n",
    "    \n",
    "    # Join with movie profiles\n",
    "    liked_movies_profiles = liked_movies.join(movies_profiles, \"movieId\", \"inner\")\n",
    "    \n",
    "    # Calculate user profile based on genre preferences\n",
    "    user_profile = liked_movies_profiles.agg(\n",
    "        *[F.mean(genre).alias(genre) for genre in all_genres]\n",
    "    ).collect()[0]\n",
    "    \n",
    "    # Convert user profile to vector and calculate its norm\n",
    "    user_profile_vector = np.array([user_profile[genre] for genre in all_genres])\n",
    "    user_norm = float(np.linalg.norm(user_profile_vector))\n",
    "    \n",
    "    # Get movies not seen by the user\n",
    "    seen_movies = liked_movies.select('movieId').distinct()\n",
    "    unseen_movies_profiles = movies_profiles.join(seen_movies, on='movieId', how='left_anti')\n",
    "    \n",
    "    # Calculate cosine similarity\n",
    "    # 1. Compute dot product between user profile and movie genres\n",
    "    exprs = [\n",
    "        F.lit(user_profile_vector[i]) * F.col(genre)\n",
    "        for i, genre in enumerate(all_genres)\n",
    "    ]\n",
    "    dot_prod = sum(exprs)\n",
    "    \n",
    "    # 2. Calculate movie profile norm\n",
    "    film_norm = F.sqrt(sum(F.col(genre) * F.col(genre) for genre in all_genres))\n",
    "    \n",
    "    # 3. Calculate cosine similarity\n",
    "    df = unseen_movies_profiles.withColumn(\n",
    "        'similarity',\n",
    "        F.when((film_norm != 0) & F.lit(user_norm != 0),\n",
    "               dot_prod / (film_norm * F.lit(user_norm))).otherwise(0)\n",
    "    )\n",
    "    \n",
    "    # Sort by similarity and return top n recommendations\n",
    "    return df.orderBy(F.col('similarity').desc()).limit(n)\n",
    "\n",
    "# Example usage\n",
    "top_recos = recommend_by_genre_similarity(movies_profiles, user_id, ratings, all_genres, 10)\n",
    "top_recos.select('movieId', 'title', 'similarity').show(10)\n"
   ]
  },
  {
   "cell_type": "code",
   "execution_count": 32,
   "id": "1fc7abf6",
   "metadata": {},
   "outputs": [
    {
     "name": "stdout",
     "output_type": "stream",
     "text": [
      "+-------+-------------------------------------------+------------------+\n",
      "|movieId|title                                      |similarity        |\n",
      "+-------+-------------------------------------------+------------------+\n",
      "|94     |Beautiful Girls (1996)                     |0.9828731898973629|\n",
      "|372    |Reality Bites (1994)                       |0.9828731898973629|\n",
      "|195    |Something to Talk About (1995)             |0.9828731898973629|\n",
      "|4      |Waiting to Exhale (1995)                   |0.9828731898973629|\n",
      "|224    |Don Juan DeMarco (1995)                    |0.9828731898973629|\n",
      "|58     |Postman, The (Postino, Il) (1994)          |0.9828731898973629|\n",
      "|232    |Eat Drink Man Woman (Yin shi nan nu) (1994)|0.9828731898973629|\n",
      "|351    |Corrina, Corrina (1994)                    |0.9828731898973629|\n",
      "|361    |It Could Happen to You (1994)              |0.9828731898973629|\n",
      "|52     |Mighty Aphrodite (1995)                    |0.9828731898973629|\n",
      "+-------+-------------------------------------------+------------------+\n",
      "\n"
     ]
    }
   ],
   "source": [
    "top_10 = top_recos.select('movieId', 'title', 'similarity').limit(10)\n",
    "top_10.show(truncate=False)\n"
   ]
  },
  {
   "cell_type": "code",
   "execution_count": 33,
   "id": "b293c97c",
   "metadata": {},
   "outputs": [
    {
     "name": "stdout",
     "output_type": "stream",
     "text": [
      "+-------------------------------------------+-----+------+---------+------+-------+-------+------+-------+-------+---+-----------+--------+-------+-----+----+---------+--------+------------------+------+---------+\n",
      "|title                                      |Crime|Horror|Adventure|Sci-Fi|Musical|Western|Comedy|Romance|Mystery|War|Documentary|Children|Fantasy|Drama|IMAX|Animation|Thriller|(no genres listed)|Action|Film-Noir|\n",
      "+-------------------------------------------+-----+------+---------+------+-------+-------+------+-------+-------+---+-----------+--------+-------+-----+----+---------+--------+------------------+------+---------+\n",
      "|Beautiful Girls (1996)                     |0    |0     |0        |0     |0      |0      |1     |1      |0      |0  |0          |0       |0      |1    |0   |0        |0       |0                 |0     |0        |\n",
      "|Reality Bites (1994)                       |0    |0     |0        |0     |0      |0      |1     |1      |0      |0  |0          |0       |0      |1    |0   |0        |0       |0                 |0     |0        |\n",
      "|Something to Talk About (1995)             |0    |0     |0        |0     |0      |0      |1     |1      |0      |0  |0          |0       |0      |1    |0   |0        |0       |0                 |0     |0        |\n",
      "|Waiting to Exhale (1995)                   |0    |0     |0        |0     |0      |0      |1     |1      |0      |0  |0          |0       |0      |1    |0   |0        |0       |0                 |0     |0        |\n",
      "|Don Juan DeMarco (1995)                    |0    |0     |0        |0     |0      |0      |1     |1      |0      |0  |0          |0       |0      |1    |0   |0        |0       |0                 |0     |0        |\n",
      "|Postman, The (Postino, Il) (1994)          |0    |0     |0        |0     |0      |0      |1     |1      |0      |0  |0          |0       |0      |1    |0   |0        |0       |0                 |0     |0        |\n",
      "|Eat Drink Man Woman (Yin shi nan nu) (1994)|0    |0     |0        |0     |0      |0      |1     |1      |0      |0  |0          |0       |0      |1    |0   |0        |0       |0                 |0     |0        |\n",
      "|Corrina, Corrina (1994)                    |0    |0     |0        |0     |0      |0      |1     |1      |0      |0  |0          |0       |0      |1    |0   |0        |0       |0                 |0     |0        |\n",
      "|It Could Happen to You (1994)              |0    |0     |0        |0     |0      |0      |1     |1      |0      |0  |0          |0       |0      |1    |0   |0        |0       |0                 |0     |0        |\n",
      "|Mighty Aphrodite (1995)                    |0    |0     |0        |0     |0      |0      |1     |1      |0      |0  |0          |0       |0      |1    |0   |0        |0       |0                 |0     |0        |\n",
      "+-------------------------------------------+-----+------+---------+------+-------+-------+------+-------+-------+---+-----------+--------+-------+-----+----+---------+--------+------------------+------+---------+\n",
      "\n"
     ]
    }
   ],
   "source": [
    "cols_to_show = ['title'] + all_genres\n",
    "top_10_genres = top_recos.select(*cols_to_show).limit(10)\n",
    "top_10_genres.show(truncate=False)\n"
   ]
  },
  {
   "cell_type": "code",
   "execution_count": 34,
   "id": "be637436",
   "metadata": {},
   "outputs": [
    {
     "name": "stdout",
     "output_type": "stream",
     "text": [
      "Crime           : 0.00\n",
      "Horror          : 0.00\n",
      "Adventure       : 0.00\n",
      "Sci-Fi          : 0.08\n",
      "Musical         : 0.00\n",
      "Western         : 0.00\n",
      "Comedy          : 0.54\n",
      "Romance         : 0.71\n",
      "Mystery         : 0.00\n",
      "War             : 0.04\n",
      "Documentary     : 0.00\n",
      "Children        : 0.00\n",
      "Fantasy         : 0.08\n",
      "Drama           : 0.54\n",
      "IMAX            : 0.00\n",
      "Animation       : 0.00\n",
      "Thriller        : 0.04\n",
      "(no genres listed) : 0.00\n",
      "Action          : 0.04\n",
      "Film-Noir       : 0.00\n"
     ]
    }
   ],
   "source": [
    "for genre in all_genres:\n",
    "    print(f\"{genre:15s} : {user_profile[genre]:.2f}\")\n"
   ]
  },
  {
   "cell_type": "markdown",
   "id": "6c79f8fd",
   "metadata": {},
   "source": [
    "#### Recommandations pour quelques utilisateurs"
   ]
  },
  {
   "cell_type": "code",
   "execution_count": null,
   "id": "663cb25d",
   "metadata": {},
   "outputs": [
    {
     "name": "stdout",
     "output_type": "stream",
     "text": [
      "\n",
      "=== Utilisateur 10 ===\n",
      "Films notés :\n",
      "+-------------------------------+---------------------------------------------------+------+\n",
      "|title                          |genres                                             |rating|\n",
      "+-------------------------------+---------------------------------------------------+------+\n",
      "|Troy (2004)                    |Action|Adventure|Drama|War                         |5.0   |\n",
      "|Notebook, The (2004)           |Drama|Romance                                      |5.0   |\n",
      "|First Daughter (2004)          |Comedy|Romance                                     |5.0   |\n",
      "|Batman Begins (2005)           |Action|Crime|IMAX                                  |5.0   |\n",
      "|Casino Royale (2006)           |Action|Adventure|Thriller                          |5.0   |\n",
      "|Holiday, The (2006)            |Comedy|Romance                                     |5.0   |\n",
      "|Education, An (2009)           |Drama|Romance                                      |5.0   |\n",
      "|Despicable Me (2010)           |Animation|Children|Comedy|Crime                    |5.0   |\n",
      "|King's Speech, The (2010)      |Drama                                              |5.0   |\n",
      "|Dark Knight Rises, The (2012)  |Action|Adventure|Crime|IMAX                        |5.0   |\n",
      "|Intouchables (2011)            |Comedy|Drama                                       |5.0   |\n",
      "|Skyfall (2012)                 |Action|Adventure|Thriller|IMAX                     |5.0   |\n",
      "|Spectre (2015)                 |Action|Adventure|Crime                             |5.0   |\n",
      "|The Intern (2015)              |Comedy                                             |5.0   |\n",
      "|Shrek (2001)                   |Adventure|Animation|Children|Comedy|Fantasy|Romance|4.5   |\n",
      "|Legally Blonde (2001)          |Comedy|Romance                                     |4.5   |\n",
      "|Chasing Liberty (2004)         |Comedy|Romance                                     |4.5   |\n",
      "|Hitch (2005)                   |Comedy|Romance                                     |4.5   |\n",
      "|Priceless (Hors de prix) (2006)|Comedy|Romance                                     |4.5   |\n",
      "|Dark Knight, The (2008)        |Action|Crime|Drama|IMAX                            |4.5   |\n",
      "+-------------------------------+---------------------------------------------------+------+\n",
      "only showing top 20 rows\n",
      "\n",
      "Top 5 recommandations (cosine similarity) :\n",
      "+-----------------------------------------------+-------------------------------------------------+------------------+\n",
      "|title                                          |genres                                           |similarity        |\n",
      "+-----------------------------------------------+-------------------------------------------------+------------------+\n",
      "|Casanova (2005)                                |Action|Adventure|Comedy|Drama|Romance            |0.9061745573203038|\n",
      "|Sisterhood of the Traveling Pants 2, The (2008)|Adventure|Comedy|Drama|Romance                   |0.8939417248451378|\n",
      "|Ernest & Célestine (Ernest et Célestine) (2012)|Adventure|Animation|Children|Comedy|Drama|Romance|0.867770430240686 |\n",
      "|Love Exposure (Ai No Mukidashi) (2008)         |Action|Comedy|Drama|Romance                      |0.8641436673502999|\n",
      "|Click (2006)                                   |Adventure|Comedy|Drama|Fantasy|Romance           |0.861754235883034 |\n",
      "+-----------------------------------------------+-------------------------------------------------+------------------+\n",
      "\n",
      "\n",
      "=== Utilisateur 12 ===\n",
      "Films notés :\n",
      "+---------------------------------+------------------------------+------+\n",
      "|title                            |genres                        |rating|\n",
      "+---------------------------------+------------------------------+------+\n",
      "|First Knight (1995)              |Action|Drama|Romance          |5.0   |\n",
      "|Circle of Friends (1995)         |Drama|Romance                 |5.0   |\n",
      "|Junior (1994)                    |Comedy|Sci-Fi                 |5.0   |\n",
      "|Emma (1996)                      |Comedy|Drama|Romance          |5.0   |\n",
      "|Shine (1996)                     |Drama|Romance                 |5.0   |\n",
      "|Titanic (1997)                   |Drama|Romance                 |5.0   |\n",
      "|'burbs, The (1989)               |Comedy                        |5.0   |\n",
      "|She's All That (1999)            |Comedy|Romance                |5.0   |\n",
      "|10 Things I Hate About You (1999)|Comedy|Romance                |5.0   |\n",
      "|Never Been Kissed (1999)         |Comedy|Romance                |5.0   |\n",
      "|Ghostbusters II (1989)           |Comedy|Fantasy|Sci-Fi         |5.0   |\n",
      "|Romeo and Juliet (1968)          |Drama|Romance                 |5.0   |\n",
      "|Love Actually (2003)             |Comedy|Drama|Romance          |5.0   |\n",
      "|Notebook, The (2004)             |Drama|Romance                 |5.0   |\n",
      "|Pride & Prejudice (2005)         |Drama|Romance                 |5.0   |\n",
      "|Twilight (2008)                  |Drama|Fantasy|Romance|Thriller|5.0   |\n",
      "|Little Women (1994)              |Drama                         |4.5   |\n",
      "|Gone with the Wind (1939)        |Drama|Romance|War             |4.5   |\n",
      "|Billy Elliot (2000)              |Drama                         |4.5   |\n",
      "|What Women Want (2000)           |Comedy|Romance                |4.5   |\n",
      "+---------------------------------+------------------------------+------+\n",
      "only showing top 20 rows\n",
      "\n",
      "Top 5 recommandations (cosine similarity) :\n",
      "+---------------------------------+--------------------+------------------+\n",
      "|title                            |genres              |similarity        |\n",
      "+---------------------------------+--------------------+------------------+\n",
      "|Mighty Aphrodite (1995)          |Comedy|Drama|Romance|0.9828731898973629|\n",
      "|Don Juan DeMarco (1995)          |Comedy|Drama|Romance|0.9828731898973629|\n",
      "|Postman, The (Postino, Il) (1994)|Comedy|Drama|Romance|0.9828731898973629|\n",
      "|American President, The (1995)   |Comedy|Drama|Romance|0.9828731898973629|\n",
      "|Beautiful Girls (1996)           |Comedy|Drama|Romance|0.9828731898973629|\n",
      "+---------------------------------+--------------------+------------------+\n",
      "\n",
      "\n",
      "=== Utilisateur 15 ===\n",
      "Films notés :\n",
      "+-----------------------------------------------------+------------------------------+------+\n",
      "|title                                                |genres                        |rating|\n",
      "+-----------------------------------------------------+------------------------------+------+\n",
      "|Star Wars: Episode IV - A New Hope (1977)            |Action|Adventure|Sci-Fi       |5.0   |\n",
      "|Shawshank Redemption, The (1994)                     |Crime|Drama                   |5.0   |\n",
      "|Forrest Gump (1994)                                  |Comedy|Drama|Romance|War      |5.0   |\n",
      "|Schindler's List (1993)                              |Drama|War                     |5.0   |\n",
      "|Terminator 2: Judgment Day (1991)                    |Action|Sci-Fi                 |5.0   |\n",
      "|Star Wars: Episode V - The Empire Strikes Back (1980)|Action|Adventure|Sci-Fi       |5.0   |\n",
      "|Aliens (1986)                                        |Action|Adventure|Horror|Sci-Fi|5.0   |\n",
      "|Star Wars: Episode VI - Return of the Jedi (1983)    |Action|Adventure|Sci-Fi       |5.0   |\n",
      "|Alien (1979)                                         |Horror|Sci-Fi                 |5.0   |\n",
      "|Back to the Future (1985)                            |Adventure|Comedy|Sci-Fi       |5.0   |\n",
      "|Lethal Weapon 2 (1989)                               |Action|Comedy|Crime|Drama     |5.0   |\n",
      "|Back to the Future Part II (1989)                    |Adventure|Comedy|Sci-Fi       |5.0   |\n",
      "|Gods Must Be Crazy, The (1980)                       |Adventure|Comedy              |5.0   |\n",
      "|Green Mile, The (1999)                               |Crime|Drama                   |5.0   |\n",
      "|Bicentennial Man (1999)                              |Drama|Romance|Sci-Fi          |5.0   |\n",
      "|Frequency (2000)                                     |Drama|Thriller                |5.0   |\n",
      "|Gladiator (2000)                                     |Action|Adventure|Drama        |5.0   |\n",
      "|Others, The (2001)                                   |Drama|Horror|Mystery|Thriller |5.0   |\n",
      "|Beautiful Mind, A (2001)                             |Drama|Romance                 |5.0   |\n",
      "|Catch Me If You Can (2002)                           |Crime|Drama                   |5.0   |\n",
      "+-----------------------------------------------------+------------------------------+------+\n",
      "only showing top 20 rows\n",
      "\n",
      "Top 5 recommandations (cosine similarity) :\n",
      "+------------------------------+--------------------------------------+------------------+\n",
      "|title                         |genres                                |similarity        |\n",
      "+------------------------------+--------------------------------------+------------------+\n",
      "|Day After Tomorrow, The (2004)|Action|Adventure|Drama|Sci-Fi|Thriller|0.9261866886207216|\n",
      "|Sound of Thunder, A (2005)    |Action|Adventure|Drama|Sci-Fi|Thriller|0.9261866886207216|\n",
      "|Children of Men (2006)        |Action|Adventure|Drama|Sci-Fi|Thriller|0.9261866886207216|\n",
      "|Jumper (2008)                 |Action|Adventure|Drama|Sci-Fi|Thriller|0.9261866886207216|\n",
      "|The Hunger Games (2012)       |Action|Adventure|Drama|Sci-Fi|Thriller|0.9261866886207216|\n",
      "+------------------------------+--------------------------------------+------------------+\n",
      "\n"
     ]
    }
   ],
   "source": [
    "# list of users to analyze\n",
    "user_ids = [10, 12, 15]\n",
    "\n",
    "for uid in user_ids:\n",
    "    print(f\"\\n=== Utilisateur {uid} ===\")\n",
    "    print(\"Films notés :\")\n",
    "    ratings.filter((col(\"userId\") == uid) & (col(\"rating\") >= 4)) \\\n",
    "        .join(movies, on=\"movieId\", how=\"left\") \\\n",
    "        .select(\"title\", \"genres\", \"rating\") \\\n",
    "        .orderBy(col(\"rating\").desc()) \\\n",
    "        .show(truncate=False)\n",
    "    \n",
    "    # Use the function we defined earlier to get recommendations\n",
    "    recommendations = recommend_by_genre_similarity(\n",
    "        movies_profiles, \n",
    "        uid, \n",
    "        ratings, \n",
    "        all_genres, \n",
    "        n=5\n",
    "    )\n",
    "    \n",
    "    print(\"Top 5 recommandations (cosine similarity) :\")\n",
    "    recommendations.select(\"title\", \"genres\", \"similarity\") \\\n",
    "        .show(truncate=False)\n"
   ]
  },
  {
   "cell_type": "markdown",
   "id": "79eb3554",
   "metadata": {},
   "source": [
    "#### Calcul de métriques"
   ]
  },
  {
   "cell_type": "code",
   "execution_count": 36,
   "id": "a409c246",
   "metadata": {},
   "outputs": [
    {
     "name": "stdout",
     "output_type": "stream",
     "text": [
      "Précision@5 utilisateur 10 : 0.2000\n",
      "Recall@5 utilisateur 10 : 0.0200\n"
     ]
    }
   ],
   "source": [
    "from pyspark.sql.functions import col\n",
    "\n",
    "def precision_recall_at_k(user_id, top_k, ratings, recs_with_titles):\n",
    "    \"\"\"\n",
    "    Calcule la précision et le rappel @k pour un utilisateur donné.\n",
    "    \"\"\"\n",
    "    # Films likés (rating >= 4)\n",
    "    liked = ratings.filter((col(\"userId\") == user_id) & (col(\"rating\") >= 4)).select(\"movieId\").distinct()\n",
    "    n_liked = liked.count()\n",
    "    if n_liked == 0:\n",
    "        return 0.0, 0.0\n",
    "\n",
    "    # Top-k recommandations\n",
    "    topk_recs = recs_with_titles.filter(col(\"userId\") == user_id).orderBy(col(\"score\").desc()).limit(top_k).select(\"movieId\")\n",
    "    n_recs = topk_recs.count()\n",
    "    if n_recs == 0:\n",
    "        return 0.0, 0.0\n",
    "\n",
    "    # True positives\n",
    "    true_positives = topk_recs.join(liked, on=\"movieId\", how=\"inner\").count()\n",
    "\n",
    "    precision = true_positives / n_recs\n",
    "    recall = true_positives / n_liked\n",
    "    return precision, recall\n",
    "\n",
    "# Exemple d'utilisation pour l'utilisateur 10\n",
    "prec_10, recall_10 = precision_recall_at_k(10, TOP_K, ratings, recs_with_titles)\n",
    "print(f\"Précision@{TOP_K} utilisateur 10 : {prec_10:.4f}\")\n",
    "print(f\"Recall@{TOP_K} utilisateur 10 : {recall_10:.4f}\")"
   ]
  },
  {
   "cell_type": "code",
   "execution_count": 37,
   "id": "2f014f62",
   "metadata": {},
   "outputs": [
    {
     "name": "stdout",
     "output_type": "stream",
     "text": [
      "Nombre d'utilisateurs évalués : 3\n",
      "Utilisateurs avec films likés : 3\n",
      "Utilisateurs avec recommandations : 3\n",
      "Précision@5 moyenne : 0.0667\n",
      "Recall@5 moyen : 0.0067\n",
      "Couverture des recommandations : 0.0932\n",
      "Couverture utilisateur : 1.0000\n"
     ]
    }
   ],
   "source": [
    "# Évaluation du modèle pour plusieurs utilisateurs avec plusieurs métriques\n",
    "\n",
    "def evaluate_model_for_users(user_ids, top_k, ratings, recs_with_titles):\n",
    "    \"\"\"\n",
    "    Calcule précision@k, rappel@k et couverture pour une liste d'utilisateurs.\n",
    "    \"\"\"\n",
    "    precisions = []\n",
    "    recalls = []\n",
    "    n_users_with_liked = 0\n",
    "    n_users_with_recs = 0\n",
    "    all_recommended = set()\n",
    "    all_liked = set()\n",
    "    \n",
    "    for uid in user_ids:\n",
    "        liked = ratings.filter((col(\"userId\") == uid) & (col(\"rating\") >= 4)).select(\"movieId\").distinct()\n",
    "        n_liked = liked.count()\n",
    "        if n_liked == 0:\n",
    "            continue\n",
    "        n_users_with_liked += 1\n",
    "        topk_recs = recs_with_titles.filter(col(\"userId\") == uid).orderBy(col(\"score\").desc()).limit(top_k).select(\"movieId\")\n",
    "        n_recs = topk_recs.count()\n",
    "        if n_recs == 0:\n",
    "            continue\n",
    "        n_users_with_recs += 1\n",
    "        true_positives = topk_recs.join(liked, on=\"movieId\", how=\"inner\").count()\n",
    "        precisions.append(true_positives / n_recs)\n",
    "        recalls.append(true_positives / n_liked)\n",
    "        all_recommended.update([row.movieId for row in topk_recs.collect()])\n",
    "        all_liked.update([row.movieId for row in liked.collect()])\n",
    "    \n",
    "    avg_precision = sum(precisions) / len(precisions) if precisions else 0.0\n",
    "    avg_recall = sum(recalls) / len(recalls) if recalls else 0.0\n",
    "    coverage = len(all_recommended) / recs_with_titles.select(\"movieId\").distinct().count() if all_recommended else 0.0\n",
    "    user_coverage = n_users_with_recs / len(user_ids) if user_ids else 0.0\n",
    "    \n",
    "    print(f\"Nombre d'utilisateurs évalués : {len(user_ids)}\")\n",
    "    print(f\"Utilisateurs avec films likés : {n_users_with_liked}\")\n",
    "    print(f\"Utilisateurs avec recommandations : {n_users_with_recs}\")\n",
    "    print(f\"Précision@{top_k} moyenne : {avg_precision:.4f}\")\n",
    "    print(f\"Recall@{top_k} moyen : {avg_recall:.4f}\")\n",
    "    print(f\"Couverture des recommandations : {coverage:.4f}\")\n",
    "    print(f\"Couverture utilisateur : {user_coverage:.4f}\")\n",
    "\n",
    "# Exemple d'utilisation\n",
    "evaluate_model_for_users(user_ids, TOP_K, ratings, recs_with_titles)"
   ]
  }
 ],
 "metadata": {
  "kernelspec": {
   "display_name": "base",
   "language": "python",
   "name": "python3"
  },
  "language_info": {
   "codemirror_mode": {
    "name": "ipython",
    "version": 3
   },
   "file_extension": ".py",
   "mimetype": "text/x-python",
   "name": "python",
   "nbconvert_exporter": "python",
   "pygments_lexer": "ipython3",
   "version": "3.11.4"
  }
 },
 "nbformat": 4,
 "nbformat_minor": 5
}
